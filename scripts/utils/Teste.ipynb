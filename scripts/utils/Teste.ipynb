{
 "cells": [
  {
   "cell_type": "code",
   "execution_count": 24,
   "id": "fb4d00d7",
   "metadata": {},
   "outputs": [],
   "source": [
    "import pandas as pd\n",
    "import pyarrow\n",
    "import os\n",
    "from pyarrow import dataset as ds\n",
    "def carregar_dados():\n",
    "    path = \"/home/leo/airflow/Projeto/data/Gold\"\n",
    "\n",
    "    if not os.path.exists(path):\n",
    "        # st.warning(f\"⚠️ Caminho não encontrado: {path}\")\n",
    "        return pd.DataFrame()\n",
    "    try:\n",
    "        # Usa pyarrow.dataset para ler todas as partições\n",
    "        dataset = ds.dataset(path, format=\"parquet\", partitioning=\"hive\")\n",
    "        df = dataset.to_table().to_pandas()\n",
    "        # st.success(\"✅ Dados carregados com sucesso!\")\n",
    "        return df\n",
    "    except Exception as e:\n",
    "        # st.error(f\"⚠️ Erro ao carregar dados particionados: {e}\")\n",
    "        return pd.DataFrame()\n",
    "\n",
    "# 🟡 Aqui você chama a função e armazena o resultado\n",
    "df = carregar_dados()\n"
   ]
  },
  {
   "cell_type": "code",
   "execution_count": 5,
   "id": "4dc25cca",
   "metadata": {},
   "outputs": [
    {
     "name": "stderr",
     "output_type": "stream",
     "text": [
      "\u001b[32m2025-07-29 21:13:22.933\u001b[0m | \u001b[1mINFO    \u001b[0m | \u001b[36m__main__\u001b[0m:\u001b[36mbaixar_dados_bank_marketing\u001b[0m:\u001b[36m11\u001b[0m - \u001b[1mBaixando Bank Marketing dataset...\u001b[0m\n"
     ]
    },
    {
     "name": "stdout",
     "output_type": "stream",
     "text": [
      "Downloading bank-marketing-dataset.zip to /home/leo/airflow/data/kaggle_data/bank_marketing\n",
      "... resuming from 0 bytes (145725 bytes left) ...\n"
     ]
    },
    {
     "name": "stderr",
     "output_type": "stream",
     "text": [
      "100%|██████████| 142k/142k [00:00<00:00, 392kB/s]\n",
      "\u001b[32m2025-07-29 21:13:26.194\u001b[0m | \u001b[32m\u001b[1mSUCCESS \u001b[0m | \u001b[36m__main__\u001b[0m:\u001b[36mbaixar_dados_bank_marketing\u001b[0m:\u001b[36m18\u001b[0m - \u001b[32m\u001b[1mDownload e extração concluídos.\u001b[0m\n"
     ]
    },
    {
     "name": "stdout",
     "output_type": "stream",
     "text": [
      "\n"
     ]
    },
    {
     "name": "stderr",
     "output_type": "stream",
     "text": [
      "\u001b[32m2025-07-29 21:13:26.408\u001b[0m | \u001b[32m\u001b[1mSUCCESS \u001b[0m | \u001b[36m__main__\u001b[0m:\u001b[36mconverter_parquet\u001b[0m:\u001b[36m24\u001b[0m - \u001b[32m\u001b[1mBank Marketing salvo como Parquet.\u001b[0m\n"
     ]
    }
   ],
   "source": [
    "import os\n",
    "import zipfile\n",
    "import pandas as pd\n",
    "from loguru import logger\n",
    "\n",
    "KAGGLE_DATASET = \"janiobachmann/bank-marketing-dataset\"\n",
    "OUTPUT_DIR = \"/home/leo/airflow/data/kaggle_data/bank_marketing\"\n",
    "\n",
    "def baixar_dados_bank_marketing():\n",
    "    os.makedirs(OUTPUT_DIR, exist_ok=True)\n",
    "    logger.info(\"Baixando Bank Marketing dataset...\")\n",
    "    os.system(f\"kaggle datasets download -d {KAGGLE_DATASET} -p {OUTPUT_DIR}\")\n",
    "    for f in os.listdir(OUTPUT_DIR):\n",
    "        if f.endswith(\".zip\"):\n",
    "            with zipfile.ZipFile(os.path.join(OUTPUT_DIR, f), 'r') as z:\n",
    "                z.extractall(OUTPUT_DIR)\n",
    "            os.remove(os.path.join(OUTPUT_DIR, f))\n",
    "    logger.success(\"Download e extração concluídos.\")\n",
    "\n",
    "def converter_parquet():\n",
    "    df = pd.read_csv(os.path.join(OUTPUT_DIR, \"bank.csv\"))\n",
    "    df['data_part'] = pd.to_datetime('now').strftime('%Y-%m-%d')\n",
    "    df.to_parquet(f\"{OUTPUT_DIR}/bank_marketing.parquet\",index=False)\n",
    "    logger.success(\"Bank Marketing salvo como Parquet.\")\n",
    "\n",
    "if __name__ == \"__main__\":\n",
    "    baixar_dados_bank_marketing()\n",
    "    converter_parquet()"
   ]
  },
  {
   "cell_type": "code",
   "execution_count": null,
   "id": "5caecdba",
   "metadata": {},
   "outputs": [
    {
     "ename": "ModuleNotFoundError",
     "evalue": "No module named 'pyspark'",
     "output_type": "error",
     "traceback": [
      "\u001b[0;31m---------------------------------------------------------------------------\u001b[0m",
      "\u001b[0;31mModuleNotFoundError\u001b[0m                       Traceback (most recent call last)",
      "Cell \u001b[0;32mIn[26], line 1\u001b[0m\n\u001b[0;32m----> 1\u001b[0m \u001b[38;5;28;01mfrom\u001b[39;00m\u001b[38;5;250m \u001b[39m\u001b[38;5;21;01mpyspark\u001b[39;00m\u001b[38;5;21;01m.\u001b[39;00m\u001b[38;5;21;01msql\u001b[39;00m\u001b[38;5;250m \u001b[39m\u001b[38;5;28;01mimport\u001b[39;00m SparkSession\n\u001b[1;32m      3\u001b[0m spark \u001b[38;5;241m=\u001b[39m SparkSession\u001b[38;5;241m.\u001b[39mbuilder\u001b[38;5;241m.\u001b[39mgetOrCreate()\n\u001b[1;32m      5\u001b[0m df_silver \u001b[38;5;241m=\u001b[39m spark\u001b[38;5;241m.\u001b[39mread\u001b[38;5;241m.\u001b[39mparquet(\u001b[38;5;124m\"\u001b[39m\u001b[38;5;124m/opt/airflow/data/Silver\u001b[39m\u001b[38;5;124m\"\u001b[39m)\n",
      "\u001b[0;31mModuleNotFoundError\u001b[0m: No module named 'pyspark'"
     ]
    }
   ],
   "source": []
  },
  {
   "cell_type": "code",
   "execution_count": null,
   "id": "ff1980d7",
   "metadata": {},
   "outputs": [],
   "source": []
  }
 ],
 "metadata": {
  "kernelspec": {
   "display_name": "Python 3",
   "language": "python",
   "name": "python3"
  },
  "language_info": {
   "codemirror_mode": {
    "name": "ipython",
    "version": 3
   },
   "file_extension": ".py",
   "mimetype": "text/x-python",
   "name": "python",
   "nbconvert_exporter": "python",
   "pygments_lexer": "ipython3",
   "version": "3.10.12"
  }
 },
 "nbformat": 4,
 "nbformat_minor": 5
}
