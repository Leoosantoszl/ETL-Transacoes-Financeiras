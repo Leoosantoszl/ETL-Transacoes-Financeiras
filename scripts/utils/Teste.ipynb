{
 "cells": [
  {
   "cell_type": "code",
   "execution_count": 24,
   "id": "fb4d00d7",
   "metadata": {},
   "outputs": [],
   "source": [
    "import pandas as pd\n",
    "import pyarrow\n",
    "import os\n",
    "from pyarrow import dataset as ds\n",
    "def carregar_dados():\n",
    "    path = \"/home/leo/airflow/Projeto/data/Gold\"\n",
    "\n",
    "    if not os.path.exists(path):\n",
    "        # st.warning(f\"⚠️ Caminho não encontrado: {path}\")\n",
    "        return pd.DataFrame()\n",
    "    try:\n",
    "        # Usa pyarrow.dataset para ler todas as partições\n",
    "        dataset = ds.dataset(path, format=\"parquet\", partitioning=\"hive\")\n",
    "        df = dataset.to_table().to_pandas()\n",
    "        # st.success(\"✅ Dados carregados com sucesso!\")\n",
    "        return df\n",
    "    except Exception as e:\n",
    "        # st.error(f\"⚠️ Erro ao carregar dados particionados: {e}\")\n",
    "        return pd.DataFrame()\n",
    "\n",
    "# 🟡 Aqui você chama a função e armazena o resultado\n",
    "df = carregar_dados()\n"
   ]
  },
  {
   "cell_type": "code",
   "execution_count": 1,
   "id": "4dc25cca",
   "metadata": {},
   "outputs": [
    {
     "name": "stderr",
     "output_type": "stream",
     "text": [
      "\u001b[32m2025-08-15 22:47:00.050\u001b[0m | \u001b[1mINFO    \u001b[0m | \u001b[36m__main__\u001b[0m:\u001b[36mbaixar_dados_bank_marketing\u001b[0m:\u001b[36m11\u001b[0m - \u001b[1mBaixando Bank Marketing dataset...\u001b[0m\n"
     ]
    },
    {
     "name": "stdout",
     "output_type": "stream",
     "text": [
      "Downloading bank-marketing-dataset.zip to /home/leo/airflow/data/kaggle_data/bank_marketing\n"
     ]
    },
    {
     "name": "stderr",
     "output_type": "stream",
     "text": [
      "100%|██████████| 142k/142k [00:00<00:00, 420kB/s]\n",
      "\u001b[32m2025-08-15 22:47:03.358\u001b[0m | \u001b[32m\u001b[1mSUCCESS \u001b[0m | \u001b[36m__main__\u001b[0m:\u001b[36mbaixar_dados_bank_marketing\u001b[0m:\u001b[36m18\u001b[0m - \u001b[32m\u001b[1mDownload e extração concluídos.\u001b[0m\n"
     ]
    },
    {
     "name": "stdout",
     "output_type": "stream",
     "text": [
      "\n"
     ]
    },
    {
     "name": "stderr",
     "output_type": "stream",
     "text": [
      "\u001b[32m2025-08-15 22:47:04.849\u001b[0m | \u001b[32m\u001b[1mSUCCESS \u001b[0m | \u001b[36m__main__\u001b[0m:\u001b[36mconverter_parquet\u001b[0m:\u001b[36m24\u001b[0m - \u001b[32m\u001b[1mBank Marketing salvo como Parquet.\u001b[0m\n"
     ]
    }
   ],
   "source": [
    "import os\n",
    "import zipfile\n",
    "import pandas as pd\n",
    "from loguru import logger\n",
    "\n",
    "KAGGLE_DATASET = \"janiobachmann/bank-marketing-dataset\"\n",
    "OUTPUT_DIR = \"/home/leo/airflow/data/kaggle_data/bank_marketing\"\n",
    "\n",
    "def baixar_dados_bank_marketing():\n",
    "    os.makedirs(OUTPUT_DIR, exist_ok=True)\n",
    "    logger.info(\"Baixando Bank Marketing dataset...\")\n",
    "    os.system(f\"kaggle datasets download -d {KAGGLE_DATASET} -p {OUTPUT_DIR}\")\n",
    "    for f in os.listdir(OUTPUT_DIR):\n",
    "        if f.endswith(\".zip\"):\n",
    "            with zipfile.ZipFile(os.path.join(OUTPUT_DIR, f), 'r') as z:\n",
    "                z.extractall(OUTPUT_DIR)\n",
    "            os.remove(os.path.join(OUTPUT_DIR, f))\n",
    "    logger.success(\"Download e extração concluídos.\")\n",
    "\n",
    "def converter_parquet():\n",
    "    df = pd.read_csv(os.path.join(OUTPUT_DIR, \"bank.csv\"))\n",
    "    df['data_part'] = pd.to_datetime('now').strftime('%Y-%m-%d')\n",
    "    df.to_parquet(f\"{OUTPUT_DIR}/bank_marketing.parquet\",index=False)\n",
    "    logger.success(\"Bank Marketing salvo como Parquet.\")\n",
    "\n",
    "if __name__ == \"__main__\":\n",
    "    baixar_dados_bank_marketing()\n",
    "    converter_parquet()"
   ]
  },
  {
   "cell_type": "code",
   "execution_count": 18,
   "id": "5caecdba",
   "metadata": {},
   "outputs": [
    {
     "ename": "ModuleNotFoundError",
     "evalue": "No module named 'scripts'",
     "output_type": "error",
     "traceback": [
      "\u001b[0;31m---------------------------------------------------------------------------\u001b[0m",
      "\u001b[0;31mModuleNotFoundError\u001b[0m                       Traceback (most recent call last)",
      "Cell \u001b[0;32mIn[18], line 4\u001b[0m\n\u001b[1;32m      2\u001b[0m \u001b[38;5;28;01mfrom\u001b[39;00m\u001b[38;5;250m \u001b[39m\u001b[38;5;21;01mpyspark\u001b[39;00m\u001b[38;5;21;01m.\u001b[39;00m\u001b[38;5;21;01msql\u001b[39;00m\u001b[38;5;250m \u001b[39m\u001b[38;5;28;01mimport\u001b[39;00m SparkSession\n\u001b[1;32m      3\u001b[0m \u001b[38;5;28;01mfrom\u001b[39;00m\u001b[38;5;250m \u001b[39m\u001b[38;5;21;01mpyspark\u001b[39;00m\u001b[38;5;21;01m.\u001b[39;00m\u001b[38;5;21;01msql\u001b[39;00m\u001b[38;5;21;01m.\u001b[39;00m\u001b[38;5;21;01mfunctions\u001b[39;00m\u001b[38;5;250m \u001b[39m\u001b[38;5;28;01mimport\u001b[39;00m col\n\u001b[0;32m----> 4\u001b[0m \u001b[38;5;28;01mfrom\u001b[39;00m\u001b[38;5;250m \u001b[39m\u001b[38;5;21;01mscripts\u001b[39;00m\u001b[38;5;21;01m.\u001b[39;00m\u001b[38;5;21;01msilver_cleaner\u001b[39;00m\u001b[38;5;250m \u001b[39m\u001b[38;5;28;01mimport\u001b[39;00m limpar_e_enriquecer_dados_silver  \u001b[38;5;66;03m# ou funções separadas\u001b[39;00m\n\u001b[1;32m      6\u001b[0m \u001b[38;5;129m@pytest\u001b[39m\u001b[38;5;241m.\u001b[39mfixture(scope\u001b[38;5;241m=\u001b[39m\u001b[38;5;124m\"\u001b[39m\u001b[38;5;124mmodule\u001b[39m\u001b[38;5;124m\"\u001b[39m)\n\u001b[1;32m      7\u001b[0m \u001b[38;5;28;01mdef\u001b[39;00m\u001b[38;5;250m \u001b[39m\u001b[38;5;21mspark\u001b[39m():\n\u001b[1;32m      8\u001b[0m     spark \u001b[38;5;241m=\u001b[39m SparkSession\u001b[38;5;241m.\u001b[39mbuilder\u001b[38;5;241m.\u001b[39mmaster(\u001b[38;5;124m\"\u001b[39m\u001b[38;5;124mlocal[1]\u001b[39m\u001b[38;5;124m\"\u001b[39m)\u001b[38;5;241m.\u001b[39mappName(\u001b[38;5;124m\"\u001b[39m\u001b[38;5;124mTestSilver\u001b[39m\u001b[38;5;124m\"\u001b[39m)\u001b[38;5;241m.\u001b[39mgetOrCreate()\n",
      "\u001b[0;31mModuleNotFoundError\u001b[0m: No module named 'scripts'"
     ]
    }
   ],
   "source": [
    "import pytest\n",
    "from pyspark.sql import SparkSession\n",
    "from pyspark.sql.functions import col\n",
    "from scripts.silver_cleaner import limpar_e_enriquecer_dados_silver  # ou funções separadas\n",
    "\n",
    "@pytest.fixture(scope=\"module\")\n",
    "def spark():\n",
    "    spark = SparkSession.builder.master(\"local[1]\").appName(\"TestSilver\").getOrCreate()\n",
    "    yield spark\n",
    "    spark.stop()\n",
    "\n",
    "def test_filtros_basicos(spark):\n",
    "    # Supondo que você tenha uma função separada que retorna df limpo\n",
    "    df = limpar_e_enriquecer_dados_silver()\n",
    "    \n",
    "    # Verifica duplicatas\n",
    "    ids = [row.id_transacao for row in df.select(\"id_transacao\").collect()]\n",
    "    assert len(ids) == len(set(ids))\n",
    "    \n",
    "    # Verifica valores positivos\n",
    "    assert df.filter(col(\"valor\") <= 0).count() == 0\n",
    "    \n",
    "    # Verifica CPF válido\n",
    "    assert df.filter(~col(\"cpf\").contains(\".\")).count() == 0\n",
    "    assert df.filter(~col(\"cpf\").contains(\"-\")).count() == 0\n",
    "    assert df.filter(col(\"cpf\").rlike(r\"\\d{3}\\.\\d{3}\\.\\d{3}-\\d{2}\") == False).count() == 0\n",
    "\n",
    "def test_bancos_nome(spark):\n",
    "    df = limpar_e_enriquecer_dados_silver()\n",
    "    bancos_validos = [\"Banco do Brasil\",\"Bradesco\",\"Caixa Econômica Federal\",\"Itaú Unibanco\",\"Santander\",\"Desconhecido\"]\n",
    "    assert df.select(\"banco_origem_nome\").distinct().rdd.flatMap(lambda x: x).collect() <= set(bancos_validos)\n",
    "    assert df.select(\"banco_destino_nome\").distinct().rdd.flatMap(lambda x: x).collect() <= set(bancos_validos)\n"
   ]
  }
 ],
 "metadata": {
  "kernelspec": {
   "display_name": "Python 3",
   "language": "python",
   "name": "python3"
  },
  "language_info": {
   "codemirror_mode": {
    "name": "ipython",
    "version": 3
   },
   "file_extension": ".py",
   "mimetype": "text/x-python",
   "name": "python",
   "nbconvert_exporter": "python",
   "pygments_lexer": "ipython3",
   "version": "3.10.12"
  }
 },
 "nbformat": 4,
 "nbformat_minor": 5
}
